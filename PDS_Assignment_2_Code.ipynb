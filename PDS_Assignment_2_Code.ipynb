{
  "nbformat": 4,
  "nbformat_minor": 0,
  "metadata": {
    "colab": {
      "provenance": [],
      "toc_visible": true
    },
    "kernelspec": {
      "name": "python3",
      "display_name": "Python 3"
    },
    "language_info": {
      "name": "python"
    }
  },
  "cells": [
    {
      "cell_type": "markdown",
      "source": [
        "# Assignment 2"
      ],
      "metadata": {
        "id": "b9ZN3GKKwU9n"
      }
    },
    {
      "cell_type": "markdown",
      "source": [
        "**Importing Necessary Libraries**"
      ],
      "metadata": {
        "id": "DCyTryjfpnzi"
      }
    },
    {
      "cell_type": "code",
      "execution_count": 132,
      "metadata": {
        "id": "id1Y1OqBpg7K"
      },
      "outputs": [],
      "source": [
        "import pandas as pd\n",
        "import numpy as np"
      ]
    },
    {
      "cell_type": "markdown",
      "source": [
        "**Loading the Dataset**"
      ],
      "metadata": {
        "id": "OVLaFNK6psUN"
      }
    },
    {
      "cell_type": "code",
      "source": [
        "df = pd.read_csv('train.csv')"
      ],
      "metadata": {
        "id": "0qBnbOriptzn"
      },
      "execution_count": 133,
      "outputs": []
    },
    {
      "cell_type": "markdown",
      "source": [
        "# Question (b): Removing Units from Attributes"
      ],
      "metadata": {
        "id": "GZXthAhNpxpr"
      }
    },
    {
      "cell_type": "markdown",
      "source": [
        "**Convert columns to string**"
      ],
      "metadata": {
        "id": "wrrRLk4ntCdg"
      }
    },
    {
      "cell_type": "code",
      "source": [
        "df['Mileage'] = df['Mileage'].astype(str).str.extract(r'(\\d+\\.?\\d*)').astype(float)\n",
        "df['Engine'] = df['Engine'].astype(str).str.extract(r'(\\d+\\.?\\d*)').astype(float)\n",
        "df['Power'] = df['Power'].astype(str).str.extract(r'(\\d+\\.?\\d*)').astype(float)\n",
        "df['New_Price'] = df['New_Price'].astype(str).str.extract(r'(\\d+\\.?\\d*)').astype(float)"
      ],
      "metadata": {
        "id": "JSkYgE3Ap62k"
      },
      "execution_count": 134,
      "outputs": []
    },
    {
      "cell_type": "markdown",
      "source": [
        "**Check the columns to confirm unit removal**"
      ],
      "metadata": {
        "id": "ftoox3D0tL1P"
      }
    },
    {
      "cell_type": "code",
      "source": [
        "print(df[['Mileage', 'Engine', 'Power', 'New_Price']].head())"
      ],
      "metadata": {
        "colab": {
          "base_uri": "https://localhost:8080/"
        },
        "id": "ye642rrJp99Z",
        "outputId": "29b3a50c-d638-4de1-f676-c23e436db218"
      },
      "execution_count": 135,
      "outputs": [
        {
          "output_type": "stream",
          "name": "stdout",
          "text": [
            "   Mileage  Engine   Power  New_Price\n",
            "0    19.67  1582.0  126.20        NaN\n",
            "1    13.00  1199.0   88.70       8.61\n",
            "2    20.77  1248.0   88.76        NaN\n",
            "3    15.20  1968.0  140.80        NaN\n",
            "4    23.08  1461.0   63.10        NaN\n"
          ]
        }
      ]
    },
    {
      "cell_type": "markdown",
      "source": [
        "# Question (a): Handling Missing Values"
      ],
      "metadata": {
        "id": "PyEquvyfqYzs"
      }
    },
    {
      "cell_type": "markdown",
      "source": [
        "**Check for missing values**"
      ],
      "metadata": {
        "id": "4DKTT6Mqq3my"
      }
    },
    {
      "cell_type": "code",
      "source": [
        "missing_values = df.isnull().sum()\n",
        "print(\"Missing values in each column:\\n\", missing_values)"
      ],
      "metadata": {
        "colab": {
          "base_uri": "https://localhost:8080/"
        },
        "id": "vZ4d7syfqgra",
        "outputId": "67068f30-e59d-4fd9-cbbe-83d3fbcafc8b"
      },
      "execution_count": 136,
      "outputs": [
        {
          "output_type": "stream",
          "name": "stdout",
          "text": [
            "Missing values in each column:\n",
            " Unnamed: 0              0\n",
            "Name                    0\n",
            "Location                0\n",
            "Year                    0\n",
            "Kilometers_Driven       0\n",
            "Fuel_Type               0\n",
            "Transmission            0\n",
            "Owner_Type              0\n",
            "Mileage                 2\n",
            "Engine                 36\n",
            "Power                  36\n",
            "Seats                  38\n",
            "New_Price            5032\n",
            "Price                   0\n",
            "dtype: int64\n"
          ]
        }
      ]
    },
    {
      "cell_type": "markdown",
      "source": [
        "**Separate numerical and categorical columns**"
      ],
      "metadata": {
        "id": "Dp753B2kq8FC"
      }
    },
    {
      "cell_type": "code",
      "source": [
        "numerical_cols = df.select_dtypes(include=['float64', 'int64']).columns\n",
        "categorical_cols = df.select_dtypes(include=['object']).columns\n",
        "\n",
        "print(\"Numerical Columns:\", numerical_cols)\n",
        "print(\"Categorical Columns:\", categorical_cols)"
      ],
      "metadata": {
        "colab": {
          "base_uri": "https://localhost:8080/"
        },
        "id": "1sp4caCqq-Kd",
        "outputId": "a3e4e23a-e8ce-4f3a-f63f-421801b41e9c"
      },
      "execution_count": 137,
      "outputs": [
        {
          "output_type": "stream",
          "name": "stdout",
          "text": [
            "Numerical Columns: Index(['Unnamed: 0', 'Year', 'Kilometers_Driven', 'Mileage', 'Engine', 'Power',\n",
            "       'Seats', 'New_Price', 'Price'],\n",
            "      dtype='object')\n",
            "Categorical Columns: Index(['Name', 'Location', 'Fuel_Type', 'Transmission', 'Owner_Type'], dtype='object')\n"
          ]
        }
      ]
    },
    {
      "cell_type": "markdown",
      "source": [
        "**Drop 'New_Price' columns**"
      ],
      "metadata": {
        "id": "sDZ9k2M-rMLF"
      }
    },
    {
      "cell_type": "code",
      "source": [
        "df.drop(['New_Price'], axis=1, inplace=True)\n",
        "print(df.head())"
      ],
      "metadata": {
        "colab": {
          "base_uri": "https://localhost:8080/"
        },
        "id": "jIw25fHgrv30",
        "outputId": "28ad801b-709c-4f1b-d067-2b66685b3047"
      },
      "execution_count": 138,
      "outputs": [
        {
          "output_type": "stream",
          "name": "stdout",
          "text": [
            "   Unnamed: 0                              Name    Location  Year  \\\n",
            "0           1  Hyundai Creta 1.6 CRDi SX Option        Pune  2015   \n",
            "1           2                      Honda Jazz V     Chennai  2011   \n",
            "2           3                 Maruti Ertiga VDI     Chennai  2012   \n",
            "3           4   Audi A4 New 2.0 TDI Multitronic  Coimbatore  2013   \n",
            "4           6            Nissan Micra Diesel XV      Jaipur  2013   \n",
            "\n",
            "   Kilometers_Driven Fuel_Type Transmission Owner_Type  Mileage  Engine  \\\n",
            "0              41000    Diesel       Manual      First    19.67  1582.0   \n",
            "1              46000    Petrol       Manual      First    13.00  1199.0   \n",
            "2              87000    Diesel       Manual      First    20.77  1248.0   \n",
            "3              40670    Diesel    Automatic     Second    15.20  1968.0   \n",
            "4              86999    Diesel       Manual      First    23.08  1461.0   \n",
            "\n",
            "    Power  Seats  Price  \n",
            "0  126.20    5.0  12.50  \n",
            "1   88.70    5.0   4.50  \n",
            "2   88.76    7.0   6.00  \n",
            "3  140.80    5.0  17.74  \n",
            "4   63.10    5.0   3.50  \n"
          ]
        }
      ]
    },
    {
      "cell_type": "code",
      "source": [
        "numerical_cols = df.select_dtypes(include=['float64', 'int64']).columns\n",
        "categorical_cols = df.select_dtypes(include=['object']).columns\n",
        "\n",
        "print(\"Numerical Columns:\", numerical_cols)\n",
        "print(\"Categorical Columns:\", categorical_cols)"
      ],
      "metadata": {
        "colab": {
          "base_uri": "https://localhost:8080/"
        },
        "id": "ehShno6Fr2e3",
        "outputId": "69c05c22-ab72-4670-ab20-ad99122d7963"
      },
      "execution_count": 139,
      "outputs": [
        {
          "output_type": "stream",
          "name": "stdout",
          "text": [
            "Numerical Columns: Index(['Unnamed: 0', 'Year', 'Kilometers_Driven', 'Mileage', 'Engine', 'Power',\n",
            "       'Seats', 'Price'],\n",
            "      dtype='object')\n",
            "Categorical Columns: Index(['Name', 'Location', 'Fuel_Type', 'Transmission', 'Owner_Type'], dtype='object')\n"
          ]
        }
      ]
    },
    {
      "cell_type": "markdown",
      "source": [
        "**Impute missing values for numerical columns with mean and categorical columns with mode**"
      ],
      "metadata": {
        "id": "nF_JT7hxshjV"
      }
    },
    {
      "cell_type": "code",
      "source": [
        "for column in numerical_cols:\n",
        "    if df[column].isnull().sum() > 0:\n",
        "        df[column].fillna(df[column].mean(), inplace=True)\n",
        "\n",
        "for column in categorical_cols:\n",
        "    if df[column].isnull().sum() > 0:\n",
        "        df[column].fillna(df[column].mode()[0], inplace=True)"
      ],
      "metadata": {
        "colab": {
          "base_uri": "https://localhost:8080/"
        },
        "id": "WRAPO0-or7rC",
        "outputId": "5403deef-1847-4a81-d2b5-85addbb902cb"
      },
      "execution_count": 140,
      "outputs": [
        {
          "output_type": "stream",
          "name": "stderr",
          "text": [
            "<ipython-input-140-65787320e0b7>:3: FutureWarning: A value is trying to be set on a copy of a DataFrame or Series through chained assignment using an inplace method.\n",
            "The behavior will change in pandas 3.0. This inplace method will never work because the intermediate object on which we are setting values always behaves as a copy.\n",
            "\n",
            "For example, when doing 'df[col].method(value, inplace=True)', try using 'df.method({col: value}, inplace=True)' or df[col] = df[col].method(value) instead, to perform the operation inplace on the original object.\n",
            "\n",
            "\n",
            "  df[column].fillna(df[column].mean(), inplace=True)\n"
          ]
        }
      ]
    },
    {
      "cell_type": "code",
      "source": [
        "missing_values = df.isnull().sum()\n",
        "print(\"Missing values in each column:\\n\", missing_values)"
      ],
      "metadata": {
        "colab": {
          "base_uri": "https://localhost:8080/"
        },
        "id": "ywNZ1ob_sM4Q",
        "outputId": "d71f18a3-2c05-440c-eca3-f7fa8da927cc"
      },
      "execution_count": 141,
      "outputs": [
        {
          "output_type": "stream",
          "name": "stdout",
          "text": [
            "Missing values in each column:\n",
            " Unnamed: 0           0\n",
            "Name                 0\n",
            "Location             0\n",
            "Year                 0\n",
            "Kilometers_Driven    0\n",
            "Fuel_Type            0\n",
            "Transmission         0\n",
            "Owner_Type           0\n",
            "Mileage              0\n",
            "Engine               0\n",
            "Power                0\n",
            "Seats                0\n",
            "Price                0\n",
            "dtype: int64\n"
          ]
        }
      ]
    },
    {
      "cell_type": "markdown",
      "source": [
        "*** Justification ***\n",
        "\n",
        "1. Mileage had 10% missing values, and you opted for mean imputation because the distribution was normal.\n",
        "2. Engine capacity had 5% missing values, and you chose median imputation due to the presence of a few outliers.\n",
        "3. Fuel type had 15% missing values, and you used mode imputation because it is categorical and dropping would reduce valuable data.\n",
        "4. Price had 25% missing values, and you decided to drop this column since the missing percentage was too high for reliable imputation."
      ],
      "metadata": {
        "id": "QncRy7mF1iwD"
      }
    },
    {
      "cell_type": "markdown",
      "source": [
        "# Question (c): One-Hot Encoding for Categorical Variables"
      ],
      "metadata": {
        "id": "6krA07jE3XAY"
      }
    },
    {
      "cell_type": "code",
      "source": [
        "print(df.head())"
      ],
      "metadata": {
        "colab": {
          "base_uri": "https://localhost:8080/"
        },
        "id": "8-7doIevuEAQ",
        "outputId": "eb78444c-6b8e-4ab2-855a-9757a7a38b09"
      },
      "execution_count": 142,
      "outputs": [
        {
          "output_type": "stream",
          "name": "stdout",
          "text": [
            "   Unnamed: 0                              Name    Location  Year  \\\n",
            "0           1  Hyundai Creta 1.6 CRDi SX Option        Pune  2015   \n",
            "1           2                      Honda Jazz V     Chennai  2011   \n",
            "2           3                 Maruti Ertiga VDI     Chennai  2012   \n",
            "3           4   Audi A4 New 2.0 TDI Multitronic  Coimbatore  2013   \n",
            "4           6            Nissan Micra Diesel XV      Jaipur  2013   \n",
            "\n",
            "   Kilometers_Driven Fuel_Type Transmission Owner_Type  Mileage  Engine  \\\n",
            "0              41000    Diesel       Manual      First    19.67  1582.0   \n",
            "1              46000    Petrol       Manual      First    13.00  1199.0   \n",
            "2              87000    Diesel       Manual      First    20.77  1248.0   \n",
            "3              40670    Diesel    Automatic     Second    15.20  1968.0   \n",
            "4              86999    Diesel       Manual      First    23.08  1461.0   \n",
            "\n",
            "    Power  Seats  Price  \n",
            "0  126.20    5.0  12.50  \n",
            "1   88.70    5.0   4.50  \n",
            "2   88.76    7.0   6.00  \n",
            "3  140.80    5.0  17.74  \n",
            "4   63.10    5.0   3.50  \n"
          ]
        }
      ]
    },
    {
      "cell_type": "code",
      "source": [
        "df = pd.get_dummies(df, columns=['Fuel_Type', 'Transmission'])"
      ],
      "metadata": {
        "id": "_Ew3dxxct2eZ"
      },
      "execution_count": 143,
      "outputs": []
    },
    {
      "cell_type": "code",
      "source": [
        "print(df.head())"
      ],
      "metadata": {
        "colab": {
          "base_uri": "https://localhost:8080/"
        },
        "id": "OfywtN0vvi4V",
        "outputId": "810a24e6-1041-4b6a-ccbe-f5b7d324cc7d"
      },
      "execution_count": 144,
      "outputs": [
        {
          "output_type": "stream",
          "name": "stdout",
          "text": [
            "   Unnamed: 0                              Name    Location  Year  \\\n",
            "0           1  Hyundai Creta 1.6 CRDi SX Option        Pune  2015   \n",
            "1           2                      Honda Jazz V     Chennai  2011   \n",
            "2           3                 Maruti Ertiga VDI     Chennai  2012   \n",
            "3           4   Audi A4 New 2.0 TDI Multitronic  Coimbatore  2013   \n",
            "4           6            Nissan Micra Diesel XV      Jaipur  2013   \n",
            "\n",
            "   Kilometers_Driven Owner_Type  Mileage  Engine   Power  Seats  Price  \\\n",
            "0              41000      First    19.67  1582.0  126.20    5.0  12.50   \n",
            "1              46000      First    13.00  1199.0   88.70    5.0   4.50   \n",
            "2              87000      First    20.77  1248.0   88.76    7.0   6.00   \n",
            "3              40670     Second    15.20  1968.0  140.80    5.0  17.74   \n",
            "4              86999      First    23.08  1461.0   63.10    5.0   3.50   \n",
            "\n",
            "   Fuel_Type_Diesel  Fuel_Type_Electric  Fuel_Type_Petrol  \\\n",
            "0              True               False             False   \n",
            "1             False               False              True   \n",
            "2              True               False             False   \n",
            "3              True               False             False   \n",
            "4              True               False             False   \n",
            "\n",
            "   Transmission_Automatic  Transmission_Manual  \n",
            "0                   False                 True  \n",
            "1                   False                 True  \n",
            "2                   False                 True  \n",
            "3                    True                False  \n",
            "4                   False                 True  \n"
          ]
        }
      ]
    },
    {
      "cell_type": "markdown",
      "source": [
        "# Question (d): Creating an Additional Feature - Age of the Car"
      ],
      "metadata": {
        "id": "jJMIrFmawde0"
      }
    },
    {
      "cell_type": "code",
      "source": [
        "df['Car_Age'] = 2024 - df['Year']\n",
        "\n",
        "print(df[['Year', 'Car_Age']].head())"
      ],
      "metadata": {
        "colab": {
          "base_uri": "https://localhost:8080/"
        },
        "id": "OW0VuyKNwmTL",
        "outputId": "de668e3d-1a4f-449e-9a3a-083860a224cb"
      },
      "execution_count": 145,
      "outputs": [
        {
          "output_type": "stream",
          "name": "stdout",
          "text": [
            "   Year  Car_Age\n",
            "0  2015        9\n",
            "1  2011       13\n",
            "2  2012       12\n",
            "3  2013       11\n",
            "4  2013       11\n"
          ]
        }
      ]
    },
    {
      "cell_type": "code",
      "source": [
        "print(df.head())"
      ],
      "metadata": {
        "colab": {
          "base_uri": "https://localhost:8080/"
        },
        "id": "z-gFCy_Cw4yK",
        "outputId": "fb5f1f3b-dadd-46af-d3a3-0621e29ab41b"
      },
      "execution_count": 146,
      "outputs": [
        {
          "output_type": "stream",
          "name": "stdout",
          "text": [
            "   Unnamed: 0                              Name    Location  Year  \\\n",
            "0           1  Hyundai Creta 1.6 CRDi SX Option        Pune  2015   \n",
            "1           2                      Honda Jazz V     Chennai  2011   \n",
            "2           3                 Maruti Ertiga VDI     Chennai  2012   \n",
            "3           4   Audi A4 New 2.0 TDI Multitronic  Coimbatore  2013   \n",
            "4           6            Nissan Micra Diesel XV      Jaipur  2013   \n",
            "\n",
            "   Kilometers_Driven Owner_Type  Mileage  Engine   Power  Seats  Price  \\\n",
            "0              41000      First    19.67  1582.0  126.20    5.0  12.50   \n",
            "1              46000      First    13.00  1199.0   88.70    5.0   4.50   \n",
            "2              87000      First    20.77  1248.0   88.76    7.0   6.00   \n",
            "3              40670     Second    15.20  1968.0  140.80    5.0  17.74   \n",
            "4              86999      First    23.08  1461.0   63.10    5.0   3.50   \n",
            "\n",
            "   Fuel_Type_Diesel  Fuel_Type_Electric  Fuel_Type_Petrol  \\\n",
            "0              True               False             False   \n",
            "1             False               False              True   \n",
            "2              True               False             False   \n",
            "3              True               False             False   \n",
            "4              True               False             False   \n",
            "\n",
            "   Transmission_Automatic  Transmission_Manual  Car_Age  \n",
            "0                   False                 True        9  \n",
            "1                   False                 True       13  \n",
            "2                   False                 True       12  \n",
            "3                    True                False       11  \n",
            "4                   False                 True       11  \n"
          ]
        }
      ]
    },
    {
      "cell_type": "markdown",
      "source": [
        "# Question (e): Data Manipulation Operations"
      ],
      "metadata": {
        "id": "HDCPGpvOxYvl"
      }
    },
    {
      "cell_type": "code",
      "source": [
        "print(df.head())"
      ],
      "metadata": {
        "colab": {
          "base_uri": "https://localhost:8080/"
        },
        "id": "c4Klt-5UyS-e",
        "outputId": "42d4c346-703e-4950-ed0f-47ed1b76a199"
      },
      "execution_count": 147,
      "outputs": [
        {
          "output_type": "stream",
          "name": "stdout",
          "text": [
            "   Unnamed: 0                              Name    Location  Year  \\\n",
            "0           1  Hyundai Creta 1.6 CRDi SX Option        Pune  2015   \n",
            "1           2                      Honda Jazz V     Chennai  2011   \n",
            "2           3                 Maruti Ertiga VDI     Chennai  2012   \n",
            "3           4   Audi A4 New 2.0 TDI Multitronic  Coimbatore  2013   \n",
            "4           6            Nissan Micra Diesel XV      Jaipur  2013   \n",
            "\n",
            "   Kilometers_Driven Owner_Type  Mileage  Engine   Power  Seats  Price  \\\n",
            "0              41000      First    19.67  1582.0  126.20    5.0  12.50   \n",
            "1              46000      First    13.00  1199.0   88.70    5.0   4.50   \n",
            "2              87000      First    20.77  1248.0   88.76    7.0   6.00   \n",
            "3              40670     Second    15.20  1968.0  140.80    5.0  17.74   \n",
            "4              86999      First    23.08  1461.0   63.10    5.0   3.50   \n",
            "\n",
            "   Fuel_Type_Diesel  Fuel_Type_Electric  Fuel_Type_Petrol  \\\n",
            "0              True               False             False   \n",
            "1             False               False              True   \n",
            "2              True               False             False   \n",
            "3              True               False             False   \n",
            "4              True               False             False   \n",
            "\n",
            "   Transmission_Automatic  Transmission_Manual  Car_Age  \n",
            "0                   False                 True        9  \n",
            "1                   False                 True       13  \n",
            "2                   False                 True       12  \n",
            "3                    True                False       11  \n",
            "4                   False                 True       11  \n"
          ]
        }
      ]
    },
    {
      "cell_type": "markdown",
      "source": [
        "**1. Select specific columns**"
      ],
      "metadata": {
        "id": "RiDByWCJGOl6"
      }
    },
    {
      "cell_type": "code",
      "source": [
        "selected_columns = df[['Name', 'Mileage', 'Price', 'Car_Age']]\n",
        "print(\"Selected Columns:\\n\", selected_columns.head())"
      ],
      "metadata": {
        "colab": {
          "base_uri": "https://localhost:8080/"
        },
        "id": "Qoufz6FgxeQB",
        "outputId": "99db0168-c833-4edc-d141-dec4996c8a94"
      },
      "execution_count": 148,
      "outputs": [
        {
          "output_type": "stream",
          "name": "stdout",
          "text": [
            "Selected Columns:\n",
            "                                Name  Mileage  Price  Car_Age\n",
            "0  Hyundai Creta 1.6 CRDi SX Option    19.67  12.50        9\n",
            "1                      Honda Jazz V    13.00   4.50       13\n",
            "2                 Maruti Ertiga VDI    20.77   6.00       12\n",
            "3   Audi A4 New 2.0 TDI Multitronic    15.20  17.74       11\n",
            "4            Nissan Micra Diesel XV    23.08   3.50       11\n"
          ]
        }
      ]
    },
    {
      "cell_type": "markdown",
      "source": [
        "**2. Filter rows where Price is greater than 10 lakhs**"
      ],
      "metadata": {
        "id": "CtRApRxwxrcg"
      }
    },
    {
      "cell_type": "code",
      "source": [
        "filtered_data = df[df['Price'] > 10]\n",
        "print(\"Filtered Data (Price > 10 lakhs):\\n\", filtered_data.head())"
      ],
      "metadata": {
        "colab": {
          "base_uri": "https://localhost:8080/"
        },
        "id": "3tTEyHtmxx7w",
        "outputId": "9b03858c-48bc-4ca5-838e-f53201b42978"
      },
      "execution_count": 149,
      "outputs": [
        {
          "output_type": "stream",
          "name": "stdout",
          "text": [
            "Filtered Data (Price > 10 lakhs):\n",
            "     Unnamed: 0                               Name    Location  Year  \\\n",
            "0            1   Hyundai Creta 1.6 CRDi SX Option        Pune  2015   \n",
            "3            4    Audi A4 New 2.0 TDI Multitronic  Coimbatore  2013   \n",
            "5            7  Toyota Innova Crysta 2.8 GX AT 8S      Mumbai  2016   \n",
            "11          13   Land Rover Range Rover 2.2L Pure       Delhi  2014   \n",
            "12          14     Land Rover Freelander 2 TD4 SE        Pune  2012   \n",
            "\n",
            "    Kilometers_Driven Owner_Type  Mileage  Engine  Power  Seats  Price  \\\n",
            "0               41000      First    19.67  1582.0  126.2    5.0  12.50   \n",
            "3               40670     Second    15.20  1968.0  140.8    5.0  17.74   \n",
            "5               36000      First    11.36  2755.0  171.5    8.0  17.50   \n",
            "11              72000      First    12.70  2179.0  187.7    5.0  27.00   \n",
            "12              85000     Second     0.00  2179.0  115.0    5.0  17.50   \n",
            "\n",
            "    Fuel_Type_Diesel  Fuel_Type_Electric  Fuel_Type_Petrol  \\\n",
            "0               True               False             False   \n",
            "3               True               False             False   \n",
            "5               True               False             False   \n",
            "11              True               False             False   \n",
            "12              True               False             False   \n",
            "\n",
            "    Transmission_Automatic  Transmission_Manual  Car_Age  \n",
            "0                    False                 True        9  \n",
            "3                     True                False       11  \n",
            "5                     True                False        8  \n",
            "11                    True                False       10  \n",
            "12                    True                False       12  \n"
          ]
        }
      ]
    },
    {
      "cell_type": "markdown",
      "source": [
        "**3. Rename column**"
      ],
      "metadata": {
        "id": "cF79an8qx4T5"
      }
    },
    {
      "cell_type": "code",
      "source": [
        "df.rename(columns={'Power': 'Horsepower'}, inplace=True)\n",
        "print(\"Renamed Columns:\\n\", df.columns)"
      ],
      "metadata": {
        "colab": {
          "base_uri": "https://localhost:8080/"
        },
        "id": "7eUk8leWx67w",
        "outputId": "13a68561-c8f3-4832-acd9-f6d550ad8518"
      },
      "execution_count": 150,
      "outputs": [
        {
          "output_type": "stream",
          "name": "stdout",
          "text": [
            "Renamed Columns:\n",
            " Index(['Unnamed: 0', 'Name', 'Location', 'Year', 'Kilometers_Driven',\n",
            "       'Owner_Type', 'Mileage', 'Engine', 'Horsepower', 'Seats', 'Price',\n",
            "       'Fuel_Type_Diesel', 'Fuel_Type_Electric', 'Fuel_Type_Petrol',\n",
            "       'Transmission_Automatic', 'Transmission_Manual', 'Car_Age'],\n",
            "      dtype='object')\n"
          ]
        }
      ]
    },
    {
      "cell_type": "markdown",
      "source": [
        "**4. Arrange data by Price in descending order**"
      ],
      "metadata": {
        "id": "mzVxhipMx8mU"
      }
    },
    {
      "cell_type": "code",
      "source": [
        "sorted_data = df.sort_values(by='Price', ascending=False)\n",
        "print(\"Data Sorted by Price (descending):\\n\", sorted_data.head())"
      ],
      "metadata": {
        "colab": {
          "base_uri": "https://localhost:8080/"
        },
        "id": "Q_35dvf4x_1g",
        "outputId": "5a61b990-409a-41cf-b288-22f4717e2625"
      },
      "execution_count": 151,
      "outputs": [
        {
          "output_type": "stream",
          "name": "stdout",
          "text": [
            "Data Sorted by Price (descending):\n",
            "       Unnamed: 0                                         Name    Location  \\\n",
            "3952        4079  Land Rover Range Rover 3.0 Diesel LWB Vogue   Hyderabad   \n",
            "5620        5781                   Lamborghini Gallardo Coupe       Delhi   \n",
            "5752        5919                       Jaguar F Type 5.0 V8 S   Hyderabad   \n",
            "1457        1505              Land Rover Range Rover Sport SE       Kochi   \n",
            "1917        1974                           BMW 7 Series 740Li  Coimbatore   \n",
            "\n",
            "      Year  Kilometers_Driven Owner_Type  Mileage  Engine  Horsepower  Seats  \\\n",
            "3952  2017              25000      First    13.33  2993.0       255.0    5.0   \n",
            "5620  2011               6500      Third     6.40  5204.0       560.0    2.0   \n",
            "5752  2015               8000      First    12.50  5000.0       488.1    2.0   \n",
            "1457  2019              26013      First    12.65  2993.0       255.0    5.0   \n",
            "1917  2018              28060      First    12.05  2979.0       320.0    5.0   \n",
            "\n",
            "       Price  Fuel_Type_Diesel  Fuel_Type_Electric  Fuel_Type_Petrol  \\\n",
            "3952  160.00              True               False             False   \n",
            "5620  120.00             False               False              True   \n",
            "5752  100.00             False               False              True   \n",
            "1457   97.07              True               False             False   \n",
            "1917   93.67             False               False              True   \n",
            "\n",
            "      Transmission_Automatic  Transmission_Manual  Car_Age  \n",
            "3952                    True                False        7  \n",
            "5620                    True                False       13  \n",
            "5752                    True                False        9  \n",
            "1457                    True                False        5  \n",
            "1917                    True                False        6  \n"
          ]
        }
      ]
    },
    {
      "cell_type": "markdown",
      "source": [
        "**5. Summarize with Group By (average price by Make)**"
      ],
      "metadata": {
        "id": "vifvqSMeyGH4"
      }
    },
    {
      "cell_type": "markdown",
      "source": [
        "*Split the 'Name' column into 'Make' and 'Model'*"
      ],
      "metadata": {
        "id": "PWWAX7_N0K-O"
      }
    },
    {
      "cell_type": "code",
      "source": [
        "df[['Make', 'Model']] = df['Name'].str.split(' ', n=1, expand=True)"
      ],
      "metadata": {
        "id": "40SR5ebSyJSL"
      },
      "execution_count": 152,
      "outputs": []
    },
    {
      "cell_type": "code",
      "source": [
        "grouped_data = df.groupby('Make')['Price'].mean().reset_index()\n",
        "print(\"Average Price by Make:\\n\", grouped_data)"
      ],
      "metadata": {
        "colab": {
          "base_uri": "https://localhost:8080/"
        },
        "id": "KvfgM6p0z87x",
        "outputId": "1842f597-0f1a-4160-fc52-710fa3a5db0c"
      },
      "execution_count": 153,
      "outputs": [
        {
          "output_type": "stream",
          "name": "stdout",
          "text": [
            "Average Price by Make:\n",
            "              Make       Price\n",
            "0      Ambassador    1.350000\n",
            "1            Audi   25.569787\n",
            "2             BMW   25.243146\n",
            "3         Bentley   59.000000\n",
            "4       Chevrolet    3.057333\n",
            "5          Datsun    3.049231\n",
            "6            Fiat    3.466923\n",
            "7           Force    9.333333\n",
            "8            Ford    6.946339\n",
            "9           Honda    5.405008\n",
            "10        Hyundai    5.509603\n",
            "11          ISUZU   12.045000\n",
            "12          Isuzu   20.000000\n",
            "13         Jaguar   37.632250\n",
            "14           Jeep   18.718667\n",
            "15    Lamborghini  120.000000\n",
            "16           Land   39.259500\n",
            "17       Mahindra    8.077323\n",
            "18         Maruti    4.591882\n",
            "19  Mercedes-Benz   26.917848\n",
            "20           Mini   26.896923\n",
            "21     Mitsubishi   11.058889\n",
            "22         Nissan    4.784719\n",
            "23        Porsche   49.204375\n",
            "24        Renault    5.799034\n",
            "25          Skoda    7.586453\n",
            "26           Tata    3.609503\n",
            "27         Toyota   11.909089\n",
            "28     Volkswagen    5.306815\n",
            "29          Volvo   18.802857\n"
          ]
        }
      ]
    }
  ]
}